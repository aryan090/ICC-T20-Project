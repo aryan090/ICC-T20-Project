{
 "cells": [
  {
   "cell_type": "markdown",
   "metadata": {},
   "source": [
    "# Starter Template"
   ]
  },
  {
   "cell_type": "code",
   "execution_count": 1,
   "metadata": {},
   "outputs": [],
   "source": [
    "import numpy as np\n",
    "import pandas as pd\n",
    "\n",
    "import requests\n",
    "from bs4 import BeautifulSoup\n",
    "\n",
    "from csv import writer"
   ]
  },
  {
   "cell_type": "markdown",
   "metadata": {},
   "source": [
    "# Scraping the data from ICC Men's T20 WC"
   ]
  },
  {
   "cell_type": "code",
   "execution_count": 2,
   "metadata": {},
   "outputs": [],
   "source": [
    "data_url = \"https://stats.espncricinfo.com/ci/content/records/283277.html\""
   ]
  },
  {
   "cell_type": "code",
   "execution_count": 4,
   "metadata": {},
   "outputs": [],
   "source": [
    "data_page = requests.get(data_url)"
   ]
  },
  {
   "cell_type": "code",
   "execution_count": 36,
   "metadata": {},
   "outputs": [],
   "source": [
    "# data_page.content"
   ]
  },
  {
   "cell_type": "code",
   "execution_count": 37,
   "metadata": {},
   "outputs": [],
   "source": [
    "soup = BeautifulSoup(data_page.content, 'html.parser')\n",
    "# soup"
   ]
  },
  {
   "cell_type": "code",
   "execution_count": 38,
   "metadata": {},
   "outputs": [],
   "source": [
    "question = soup.findAll(attrs = {'class': 'div630Pad'})\n",
    "# question"
   ]
  },
  {
   "cell_type": "code",
   "execution_count": 39,
   "metadata": {},
   "outputs": [],
   "source": [
    "answer1 = question[0].text.replace('\\n',\",\")\n",
    "# answer1"
   ]
  },
  {
   "cell_type": "code",
   "execution_count": 20,
   "metadata": {},
   "outputs": [],
   "source": [
    "# answer3 = answer2.text.replace('\\n',\",\")\n",
    "# main_data = answer2\n",
    "# # datafound = print(main_data)\n",
    "# main_data.text.replace('\\n',\",\")"
   ]
  },
  {
   "cell_type": "code",
   "execution_count": 40,
   "metadata": {},
   "outputs": [
    {
     "data": {
      "text/plain": [
       "',,,,,,,Tweet,,,,,,,,Largest victories,,,Winner,Margin,Balls Rem,Target,Overs,,Opposition,Ground,Match Date,Scorecard,,,,,South Africa,10 wickets,51,130,11.3,,v Pakistan,Johannesburg,2 Feb 2007,T20I # 14,,,Australia,10 wickets,58,102,10.2,,v Sri Lanka,Cape Town,20 Sep 2007,T20I # 41,,,Kenya,10 wickets,45,110,12.3,,v Scotland,Nairobi (Gym),1 Feb 2010,T20I # 129,,,New Zealand,10 wickets,70,79,8.2,,v Bangladesh,Hamilton,3 Feb 2010,T20I # 131,,,Kenya,10 wickets,33,124,14.3,,v Scotland,Nairobi (Gym),4 Feb 2010,T20I # 133,,,England,10 wickets,28,126,15.2,,v West Indies,The Oval,23 Sep 2011,T20I # 207,,,New Zealand,10 wickets,39,124,13.3,,v Zimbabwe,Harare,15 Oct 2011,T20I # 211,,,Ireland,10 wickets,76,72,7.2,,v Kenya,Dubai (DSC),14 Mar 2012,T20I # 232,,,Ireland,10 wickets,63,107,9.3,,v Canada,Dubai (DSC),22 Mar 2012,T20I # 236,,,South Africa,10 wickets,44,94,12.4,,v Zimbabwe,Hambantota,20 Sep 2012,T20I # 266,,,England,10 wickets,44,140,12.4,,v New Zealand,Wellington,15 Feb 2013,T20I # 304,,,New Zealand,10 wickets,14,169,17.4,,v Pakistan,Hamilton,17 Jan 2016,T20I # 480,,,India,10 wickets,41,100,13.1,,v Zimbabwe,Harare,20 Jun 2016,T20I # 559,,,Afghanistan,10 wickets,73,72,7.5,,v Ireland,Dubai (DSC),20 Jan 2017,T20I # 588,,,P.N.G.,10 wickets,60,57,3.0,,v Vanuatu,Port Moresby,24 Mar 2019,T20I # 762,,,Namibia,10 wickets,97,47,3.5,,v Botswana,Kampala,22 May 2019,T20I # 783,,,Austria,10 wickets,104,33,2.4,,v Turkey,Ilfov County,31 Aug 2019,T20I # 875,,,Greece,10 wickets,93,53,4.3,,v Serbia,Corfu,15 Oct 2019,T20I # 932,,,P.N.G.,10 wickets,58,90,10.2,,v Bermuda,ICCA Dubai,19 Oct 2019,T20I # 940,,,Australia,10 wickets,49,107,11.5,,v Pakistan,Perth,8 Nov 2019,T20I # 1009,,,U.A.E.,10 wickets,87,62,5.3,,v Iran,Al Amerat,23 Feb 2020,T20I # 1047,,,Oman,10 wickets,34,130,14.2,,v Maldives,Al Amerat,25 Feb 2020,T20I # 1058,,,Romania,10 wickets,86,116,5.4,,v Serbia,Sofia,26 Jun 2021,T20I # 1173,,,Belgium,10 wickets,87,51,5.3,,v Malta,Marsa,8 Jul 2021,T20I # 1183,,,South Africa,10 wickets,32,121,14.4,,v Sri Lanka,Colombo (RPS),14 Sep 2021,T20I # 1273,,,Uganda,10 wickets,54,99,11.0,,v Malawi,Kigali,16 Oct 2021,T20I # 1302,,,Oman,10 wickets,38,130,13.4,,v P.N.G.,Al Amerat,17 Oct 2021,T20I # 1307,,,Uganda,10 wickets,98,27,3.4,,v Lesotho,Kigali,19 Oct 2021,T20I # 1315,,,Pakistan,10 wickets,13,152,17.5,,v India,Dubai (DSC),24 Oct 2021,T20I # 1361,,,U.S.A.,10 wickets,94,65,4.2,,v Belize,Coolidge,7 Nov 2021,T20I # 1404,,,U.S.A.,10 wickets,47,91,12.1,,v Bahamas,Coolidge,13 Nov 2021,T20I # 1423,,,Australia,10 wickets,36,129,14.0,,v Sri Lanka,Colombo (RPS),7 Jun 2022,T20I # 1551,,,Norway,10 wickets,60,102,10.0,,v Estonia,Kerava,24 Jul 2022,T20I # 1681,,,Tanzania,10 wickets,73,78,7.5,,v Cameroon,Benoni,17 Sep 2022,T20I # 1780,,,Pakistan,10 wickets,3,200,19.3,,v England,Karachi,22 Sep 2022,T20I # 1793,,,Germany,10 wickets,37,108,13.5,,v Italy,Almeria,4 Nov 2022,T20I # 1865,,,Tanzania,10 wickets,77,84,7.1,,v Rwanda,Dar-es-Salaam,6 Nov 2022,T20I # 1875,,,England,10 wickets,24,169,16.0,,v India,Adelaide,10 Nov 2022,T20I # 1878,,,Botswana,10 wickets,73,92,7.5,,v Lesotho,Kigali,18 Nov 2022,T20I # 1892,,,Kenya,10 wickets,105,31,2.3,,v Mali,Kigali,20 Nov 2022,T20I # 1900,,,Malawi,10 wickets,8,38,3.4,,v St Helena,Rwanda,24 Nov 2022,T20I # 1916,,,Rwanda,10 wickets,105,31,2.3,,v Mali,Kigali,24 Nov 2022,T20I # 1919,,,Tanzania,10 wickets,92,60,4.4,,v Gambia,Rwanda,6 Dec 2022,T20I # 1943,,,New Zealand,9 wickets,74,74,7.4,,v Kenya,Durban,12 Sep 2007,T20I # 21,,,Australia,9 wickets,37,124,13.5,,v Bangladesh,Cape Town,16 Sep 2007,T20I # 33,,,Australia,9 wickets,52,75,11.2,,v India,Melbourne,1 Feb 2008,T20I # 52,,,England,9 wickets,15,124,17.3,,v New Zealand,Manchester,13 Jun 2008,T20I # 56,,,Scotland,9 wickets,11,107,18.1,,v Kenya,Belfast,4 Aug 2008,T20I # 66,,,Kenya,9 wickets,31,139,14.5,,v Canada,Dubai (DSC),10 Feb 2010,T20I # 138,,,Sri Lanka,9 wickets,16,137,17.2,,v England,Bristol,25 Jun 2011,T20I # 201,,,Australia,9 wickets,31,141,14.5,,v India,Colombo (RPS),28 Sep 2012,T20I # 278,,,Sri Lanka,9 wickets,28,130,15.2,,v West Indies,Pallekele,29 Sep 2012,T20I # 280,,,South Africa,9 wickets,33,99,14.3,,v Pakistan,Dubai (DSC),13 Nov 2013,T20I # 334,,,Bangladesh,9 wickets,48,73,12.0,,v Afghanistan,Mirpur,16 Mar 2014,T20I # 366,,,Sri Lanka,9 wickets,90,40,5.0,,v Netherlands,Chattogram,24 Mar 2014,T20I # 384,,,Scotland,9 wickets,60,110,10.0,,v U.A.E.,Edinburgh,9 Jul 2015,T20I # 430,,,New Zealand,9 wickets,60,143,10.0,,v Sri Lanka,Auckland,10 Jan 2016,T20I # 476,,,Hong Kong,9 wickets,22,67,6.2,,v Scotland,Mong Kok,30 Jan 2016,T20I # 487,,,India,9 wickets,37,83,13.5,,v Sri Lanka,Visakhapatnam,14 Feb 2016,T20I # 499,,,South Africa,9 wickets,32,172,14.4,,v England,Johannesburg,21 Feb 2016,T20I # 506,,,India,9 wickets,59,82,10.1,,v U.A.E.,Mirpur,3 Mar 2016,T20I # 517,,,Pakistan,9 wickets,31,136,14.5,,v England,Manchester,7 Sep 2016,T20I # 566,,,Pakistan,9 wickets,34,116,14.2,,v West Indies,Dubai (DSC),23 Sep 2016,T20I # 568,,,England,9 wickets,33,143,14.3,,v South Africa,Southampton,21 Jun 2017,T20I # 614,,,West Indies,9 wickets,9,191,18.3,,v India,Kingston,9 Jul 2017,T20I # 617,,,India,9 wickets,3,48,5.3,,v Australia,Ranchi,7 Oct 2017,T20I # 623,,,Australia,9 wickets,55,117,10.5,,v Pakistan,Harare,2 Jul 2018,T20I # 682,,,Namibia,9 wickets,55,92,10.5,,v Ghana,Kampala,20 May 2019,T20I # 777,,,P.N.G.,9 wickets,11,24,3.1,,v Samoa,Apia (No 1),8 Jul 2019,T20I # 819,,,Ireland,9 wickets,13,134,10.5,,v Zimbabwe,Bready,12 Jul 2019,T20I # 825,,,U.S.A.,9 wickets,62,67,9.4,,v Cayman Is,Sandys Parish,24 Aug 2019,T20I # 863,,,South Africa,9 wickets,19,135,16.5,,v India,Bengaluru,22 Sep 2019,T20I # 893,,,Nepal,9 wickets,24,152,16.0,,v Singapore,Singapore,28 Sep 2019,T20I # 895,,,Argentina,9 wickets,33,47,6.3,,v Mexico,Cortijo Polo Club Pitch A,3 Oct 2019,T20I # 903,,,Greece,9 wickets,54,95,11.0,,v Bulgaria,Corfu,16 Oct 2019,T20I # 933,,,Australia,9 wickets,42,118,13.0,,v Sri Lanka,Brisbane,30 Oct 2019,T20I # 988,,,West Indies,9 wickets,54,139,11.0,,v Ireland,Basseterre,19 Jan 2020,T20I # 1030,,,Pakistan,9 wickets,20,137,16.4,,v Bangladesh,Lahore,25 Jan 2020,T20I # 1033,,,Kuwait,9 wickets,56,114,10.4,,v Saudi Arabia,Al Amerat,23 Feb 2020,T20I # 1049,,,Saudi Arabia,9 wickets,87,73,5.3,,v Iran,Al Amerat,24 Feb 2020,T20I # 1053,,,Nepal,9 wickets,87,67,5.3,,v Thailand,Bangkok,4 Mar 2020,T20I # 1073,,,Spain,9 wickets,11,140,18.1,,v Germany,Almeria,8 Mar 2020,T20I # 1080,,,Bangladesh,9 wickets,25,120,15.5,,v Zimbabwe,Mirpur,11 Mar 2020,T20I # 1084,,,England,9 wickets,14,192,17.4,,v South Africa,Cape Town,1 Dec 2020,T20I # 1113,,,New Zealand,9 wickets,4,164,19.2,,v Pakistan,Hamilton,20 Dec 2020,T20I # 1118,,,Pakistan,9 wickets,12,204,18.0,,v South Africa,Centurion,14 Apr 2021,T20I # 1147,,,Nepal,9 wickets,30,137,15.0,,v Netherlands,Kirtipur,17 Apr 2021,T20I # 1149,,,Nepal,9 wickets,47,110,12.1,,v Malaysia,Kirtipur,19 Apr 2021,T20I # 1151,,,Czech Rep.,9 wickets,10,127,18.2,,v Luxembourg,Vinor,21 May 2021,T20I # 1159,,,South Africa,9 wickets,35,104,14.1,,v Sri Lanka,Colombo (RPS),12 Sep 2021,T20I # 1270,,,Ghana,9 wickets,59,96,10.1,,v Seychelles,Rwanda,16 Oct 2021,T20I # 1301,,,Switzerland,9 wickets,32,134,14.4,,v Gibraltar,Marsa,22 Oct 2021,T20I # 1341,,,Nigeria,9 wickets,25,85,15.5,,v Sierra Leone,Lagos,23 Oct 2021,T20I # 1349,,,Botswana,9 wickets,91,52,4.5,,v Cameroon,Rwanda,5 Nov 2021,T20I # 1393,,,U.S.A.,9 wickets,64,86,9.2,,v Panama,Coolidge,7 Nov 2021,T20I # 1407,,,India,9 wickets,28,133,15.2,,v Namibia,Dubai (DSC),8 Nov 2021,T20I # 1410,,,Canada,9 wickets,65,110,9.1,,v Argentina,North Sound,13 Nov 2021,T20I # 1426,,,West Indies,9 wickets,17,104,17.1,,v England,Bridgetown,22 Jan 2022,T20I # 1453,,,Ireland,9 wickets,17,138,17.1,,v Oman,Al Amerat,12 Feb 2022,T20I # 1461,,,Oman,9 wickets,12,156,18.0,,v Canada,Al Amerat,19 Feb 2022,T20I # 1475,,,Oman,9 wickets,103,37,2.5,,v Philippines,Al Amerat,21 Feb 2022,T20I # 1483,,,Germany,9 wickets,43,110,12.5,,v Philippines,Al Amerat,24 Feb 2022,T20I # 1489,,,Nepal,9 wickets,22,88,16.2,,v Oman,Al Amerat,24 Feb 2022,T20I # 1491,,,Malaysia,9 wickets,97,31,3.5,,v Thailand,Bangi,4 Jul 2022,T20I # 1608,,,Denmark,9 wickets,41,111,13.1,,v Portugal,Waterloo,4 Jul 2022,T20I # 1611,,,Malaysia,9 wickets,67,74,8.5,,v Thailand,Bangi,7 Jul 2022,T20I # 1615,,,Malaysia,9 wickets,81,83,6.3,,v Bhutan,Bangi,11 Jul 2022,T20I # 1632,,,Italy,9 wickets,53,68,11.1,,v Greece,Vantaa,12 Jul 2022,T20I # 1640,,,Guernsey,9 wickets,87,56,5.3,,v Slovenia,Kerava,28 Jul 2022,T20I # 1697,,,Austria,9 wickets,35,77,8.1,,v Norway,Kerava,31 Jul 2022,T20I # 1715,,,Vanuatu,9 wickets,27,123,15.3,,v Samoa,Port vila,10 Sep 2022,T20I # 1766,,,Kenya,9 wickets,100,49,3.2,,v Cameroon,Benoni,19 Sep 2022,T20I # 1784,,,New Zealand,9 wickets,23,131,16.1,,v Pakistan,Christchurch,11 Oct 2022,T20I # 1815,,,Ireland,9 wickets,15,147,17.3,,v West Indies,Hobart,21 Oct 2022,T20I # 1837,,,Sri Lanka,9 wickets,30,129,15.0,,v Ireland,Hobart,23 Oct 2022,T20I # 1841,,,Oman,9 wickets,59,87,10.1,,v Saudi Arabia,Al Amerat,14 Nov 2022,T20I # 1880,,,Kenya,9 wickets,56,88,10.4,,v Rwanda,Rwanda,20 Nov 2022,T20I # 1902,,,Saudi Arabia,9 wickets,55,113,10.5,,v Bahrain,Al Amerat,20 Nov 2022,T20I # 1904,,,Tanzania,9 wickets,45,47,7.3,,v Sierra Leone,Rwanda,1 Dec 2022,T20I # 1925,,,Mozambique,9 wickets,15,151,17.3,,v Eswatini,Kigali,2 Dec 2022,T20I # 1931,,,Mozambique,9 wickets,54,96,11.0,,v Cameroon,Rwanda,4 Dec 2022,T20I # 1932,,,Nigeria,9 wickets,89,43,5.1,,v Gambia,Kigali,4 Dec 2022,T20I # 1934,,,Uganda,9 wickets,85,58,5.5,,v Rwanda,Rwanda,19 Dec 2022,T20I # 1971,,,Qatar,9 wickets,24,165,14.0,,v Singapore,Bangi,23 Dec 2022,T20I # 1980,,,,,,,   By default, the shading indicates records from the past week, or failing that, the most recent entry.,  ,,,,Adjust:,most recent,   | past week,   | past month,   | past 6 months,   | past year,   | 4 years,   | 10 years,,,,,,,,Records includes the following current or recent matches:,,,,,Zimbabwe v Ireland at Harare, 3rd T20I, Jan 15, 2023,[T20I # 1989],,,,,Zimbabwe v Ireland at Harare, 2nd T20I, Jan 14, 2023,[T20I # 1988],,,,,Zimbabwe v Ireland at Harare, 1st T20I, Jan 12, 2023,[T20I # 1987],,,,'"
      ]
     },
     "execution_count": 40,
     "metadata": {},
     "output_type": "execute_result"
    }
   ],
   "source": [
    "# datass = answer2.split()\n",
    "answer1"
   ]
  },
  {
   "cell_type": "code",
   "execution_count": 27,
   "metadata": {},
   "outputs": [],
   "source": [
    "# with open('main_source.csv', 'w', encoding='utf8', newline='') as f:\n",
    "#     thewriter = writer(f)\n",
    "#     header = ['Winner', 'Margin', 'Balls Rem', 'Target', 'Overs',\n",
    "#               'Opposition', 'Ground', 'Match', 'Date', 'Scorecard']\n",
    "#     # thewriter.writerow(header)\n",
    "#     # thewriter.writerow(info)\n",
    "#     thewriter.writerow(datass)"
   ]
  },
  {
   "cell_type": "code",
   "execution_count": 31,
   "metadata": {},
   "outputs": [],
   "source": [
    "# data_url = \"https://stats.espncricinfo.com/ci/content/records/283277.html\"\n",
    "# data_page = requests.get(data_url)\n",
    "# data_page.content\n",
    "# soup = BeautifulSoup(data_page.content, 'html.parser')\n",
    "# soup\n",
    "# question = soup.findAll(attrs = {'class': 'div630Pad'})\n",
    "# answer1 = question[0].text.replace('\\n',\",\")\n",
    "# answer2 = question[0].text.replace('\\n',\",\")\n",
    "# answer1\n",
    "# main_data = [[answer1]]\n",
    "# main_data\n",
    "# df = pd.DataFrame(main_data, columns=['Winner', 'Margin', 'Balls Rem', 'Target',\t'Overs', 'Opposition', 'Ground', 'Match Date', 'Scorecard'])"
   ]
  },
  {
   "cell_type": "markdown",
   "metadata": {},
   "source": [
    "# ICC T20 WORLD CUP Data"
   ]
  },
  {
   "cell_type": "code",
   "execution_count": 32,
   "metadata": {},
   "outputs": [],
   "source": [
    "data = pd.read_csv('datasource.csv')"
   ]
  },
  {
   "cell_type": "code",
   "execution_count": 34,
   "metadata": {},
   "outputs": [
    {
     "data": {
      "text/html": [
       "<div>\n",
       "<style scoped>\n",
       "    .dataframe tbody tr th:only-of-type {\n",
       "        vertical-align: middle;\n",
       "    }\n",
       "\n",
       "    .dataframe tbody tr th {\n",
       "        vertical-align: top;\n",
       "    }\n",
       "\n",
       "    .dataframe thead th {\n",
       "        text-align: right;\n",
       "    }\n",
       "</style>\n",
       "<table border=\"1\" class=\"dataframe\">\n",
       "  <thead>\n",
       "    <tr style=\"text-align: right;\">\n",
       "      <th></th>\n",
       "      <th>Winner</th>\n",
       "      <th>Margin</th>\n",
       "      <th>Balls Rem</th>\n",
       "      <th>Target</th>\n",
       "      <th>Overs</th>\n",
       "      <th>Opposition</th>\n",
       "      <th>Ground</th>\n",
       "      <th>Match Date</th>\n",
       "      <th>Scorecard</th>\n",
       "    </tr>\n",
       "  </thead>\n",
       "  <tbody>\n",
       "    <tr>\n",
       "      <th>0</th>\n",
       "      <td>South Africa</td>\n",
       "      <td>10 wickets</td>\n",
       "      <td>51</td>\n",
       "      <td>130</td>\n",
       "      <td>11.3</td>\n",
       "      <td>v Pakistan</td>\n",
       "      <td>Johannesburg</td>\n",
       "      <td>02-Feb-07</td>\n",
       "      <td>T20I # 14</td>\n",
       "    </tr>\n",
       "    <tr>\n",
       "      <th>1</th>\n",
       "      <td>Australia</td>\n",
       "      <td>10 wickets</td>\n",
       "      <td>58</td>\n",
       "      <td>102</td>\n",
       "      <td>10.2</td>\n",
       "      <td>v Sri Lanka</td>\n",
       "      <td>Cape Town</td>\n",
       "      <td>20-Sep-07</td>\n",
       "      <td>T20I # 41</td>\n",
       "    </tr>\n",
       "    <tr>\n",
       "      <th>2</th>\n",
       "      <td>Kenya</td>\n",
       "      <td>10 wickets</td>\n",
       "      <td>45</td>\n",
       "      <td>110</td>\n",
       "      <td>12.3</td>\n",
       "      <td>v Scotland</td>\n",
       "      <td>Nairobi (Gym)</td>\n",
       "      <td>01-Feb-10</td>\n",
       "      <td>T20I # 129</td>\n",
       "    </tr>\n",
       "    <tr>\n",
       "      <th>3</th>\n",
       "      <td>New Zealand</td>\n",
       "      <td>10 wickets</td>\n",
       "      <td>70</td>\n",
       "      <td>79</td>\n",
       "      <td>8.2</td>\n",
       "      <td>v Bangladesh</td>\n",
       "      <td>Hamilton</td>\n",
       "      <td>03-Feb-10</td>\n",
       "      <td>T20I # 131</td>\n",
       "    </tr>\n",
       "    <tr>\n",
       "      <th>4</th>\n",
       "      <td>Kenya</td>\n",
       "      <td>10 wickets</td>\n",
       "      <td>33</td>\n",
       "      <td>124</td>\n",
       "      <td>14.3</td>\n",
       "      <td>v Scotland</td>\n",
       "      <td>Nairobi (Gym)</td>\n",
       "      <td>04-Feb-10</td>\n",
       "      <td>T20I # 133</td>\n",
       "    </tr>\n",
       "    <tr>\n",
       "      <th>5</th>\n",
       "      <td>England</td>\n",
       "      <td>10 wickets</td>\n",
       "      <td>28</td>\n",
       "      <td>126</td>\n",
       "      <td>15.2</td>\n",
       "      <td>v West Indies</td>\n",
       "      <td>The Oval</td>\n",
       "      <td>23-Sep-11</td>\n",
       "      <td>T20I # 207</td>\n",
       "    </tr>\n",
       "    <tr>\n",
       "      <th>6</th>\n",
       "      <td>New Zealand</td>\n",
       "      <td>10 wickets</td>\n",
       "      <td>39</td>\n",
       "      <td>124</td>\n",
       "      <td>13.3</td>\n",
       "      <td>v Zimbabwe</td>\n",
       "      <td>Harare</td>\n",
       "      <td>15-Oct-11</td>\n",
       "      <td>T20I # 211</td>\n",
       "    </tr>\n",
       "    <tr>\n",
       "      <th>7</th>\n",
       "      <td>Ireland</td>\n",
       "      <td>10 wickets</td>\n",
       "      <td>76</td>\n",
       "      <td>72</td>\n",
       "      <td>7.2</td>\n",
       "      <td>v Kenya</td>\n",
       "      <td>Dubai (DSC)</td>\n",
       "      <td>14-Mar-12</td>\n",
       "      <td>T20I # 232</td>\n",
       "    </tr>\n",
       "    <tr>\n",
       "      <th>8</th>\n",
       "      <td>Ireland</td>\n",
       "      <td>10 wickets</td>\n",
       "      <td>63</td>\n",
       "      <td>107</td>\n",
       "      <td>9.3</td>\n",
       "      <td>v Canada</td>\n",
       "      <td>Dubai (DSC)</td>\n",
       "      <td>22-Mar-12</td>\n",
       "      <td>T20I # 236</td>\n",
       "    </tr>\n",
       "    <tr>\n",
       "      <th>9</th>\n",
       "      <td>South Africa</td>\n",
       "      <td>10 wickets</td>\n",
       "      <td>44</td>\n",
       "      <td>94</td>\n",
       "      <td>12.4</td>\n",
       "      <td>v Zimbabwe</td>\n",
       "      <td>Hambantota</td>\n",
       "      <td>20-Sep-12</td>\n",
       "      <td>T20I # 266</td>\n",
       "    </tr>\n",
       "  </tbody>\n",
       "</table>\n",
       "</div>"
      ],
      "text/plain": [
       "         Winner      Margin  Balls Rem  Target  Overs     Opposition  \\\n",
       "0  South Africa  10 wickets         51     130   11.3     v Pakistan   \n",
       "1     Australia  10 wickets         58     102   10.2    v Sri Lanka   \n",
       "2         Kenya  10 wickets         45     110   12.3     v Scotland   \n",
       "3   New Zealand  10 wickets         70      79    8.2   v Bangladesh   \n",
       "4         Kenya  10 wickets         33     124   14.3     v Scotland   \n",
       "5       England  10 wickets         28     126   15.2  v West Indies   \n",
       "6   New Zealand  10 wickets         39     124   13.3     v Zimbabwe   \n",
       "7       Ireland  10 wickets         76      72    7.2        v Kenya   \n",
       "8       Ireland  10 wickets         63     107    9.3       v Canada   \n",
       "9  South Africa  10 wickets         44      94   12.4     v Zimbabwe   \n",
       "\n",
       "          Ground Match Date   Scorecard  \n",
       "0   Johannesburg  02-Feb-07   T20I # 14  \n",
       "1      Cape Town  20-Sep-07   T20I # 41  \n",
       "2  Nairobi (Gym)  01-Feb-10  T20I # 129  \n",
       "3       Hamilton  03-Feb-10  T20I # 131  \n",
       "4  Nairobi (Gym)  04-Feb-10  T20I # 133  \n",
       "5       The Oval  23-Sep-11  T20I # 207  \n",
       "6         Harare  15-Oct-11  T20I # 211  \n",
       "7    Dubai (DSC)  14-Mar-12  T20I # 232  \n",
       "8    Dubai (DSC)  22-Mar-12  T20I # 236  \n",
       "9     Hambantota  20-Sep-12  T20I # 266  "
      ]
     },
     "execution_count": 34,
     "metadata": {},
     "output_type": "execute_result"
    }
   ],
   "source": [
    "data.head(10)"
   ]
  },
  {
   "cell_type": "code",
   "execution_count": 35,
   "metadata": {},
   "outputs": [
    {
     "data": {
      "text/plain": [
       "(124, 9)"
      ]
     },
     "execution_count": 35,
     "metadata": {},
     "output_type": "execute_result"
    }
   ],
   "source": [
    "data.shape"
   ]
  },
  {
   "cell_type": "code",
   "execution_count": null,
   "metadata": {},
   "outputs": [],
   "source": []
  }
 ],
 "metadata": {
  "kernelspec": {
   "display_name": "Python 3 (ipykernel)",
   "language": "python",
   "name": "python3"
  },
  "language_info": {
   "codemirror_mode": {
    "name": "ipython",
    "version": 3
   },
   "file_extension": ".py",
   "mimetype": "text/x-python",
   "name": "python",
   "nbconvert_exporter": "python",
   "pygments_lexer": "ipython3",
   "version": "3.10.4"
  },
  "vscode": {
   "interpreter": {
    "hash": "68640f2efa6152189b18105bb0aee0d35720c8837f476d2879b1ab49dedd2a53"
   }
  }
 },
 "nbformat": 4,
 "nbformat_minor": 4
}
